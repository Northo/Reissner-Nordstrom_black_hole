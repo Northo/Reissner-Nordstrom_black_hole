{
 "cells": [
  {
   "cell_type": "code",
   "execution_count": 2,
   "metadata": {},
   "outputs": [],
   "source": [
    "import numpy as np\n",
    "import sympy\n",
    "from differentialGeometry3 import computeGeometry, printGeometry, determinantg, ginv\n",
    "from IPython.display import display, Math\n",
    "\n",
    "def displayNonZero(T):\n",
    "    \"\"\"Displays the non-zero components of the tensor T\"\"\"\n",
    "    for index, element in np.ndenumerate(T):\n",
    "        if element != 0:\n",
    "            print(index)\n",
    "            display(sympy.simplify(element))"
   ]
  },
  {
   "cell_type": "markdown",
   "metadata": {},
   "source": [
    "**b)**\n",
    "\n",
    "Finding the non-zero contributions to the Ricci tensor.\n",
    "Note that we use the `differentialGeometry3` library from http://web.phys.ntnu.no/~mika/QF/software.html."
   ]
  },
  {
   "cell_type": "code",
   "execution_count": 3,
   "metadata": {},
   "outputs": [
    {
     "name": "stdout",
     "output_type": "stream",
     "text": [
      "Covariant derivatives of covariant metric vanishes: True\n",
      "Covariant derivatives of contravariant metric vanishes: True\n",
      "Covariant divergence of the Einstein tensor vanishes: True\n"
     ]
    }
   ],
   "source": [
    "t, r, theta, phi = sympy.symbols('t r theta phi')\n",
    "coords = np.array([t, r, theta, phi])\n",
    "A = sympy.Function('A')(r)\n",
    "B = sympy.Function('B')(r)\n",
    "\n",
    "# Construct the tensor\n",
    "g_ = np.zeros((4, 4),dtype=object)\n",
    "g_[0,0] = A\n",
    "g_[1,1] = -B\n",
    "g_[2,2] = -r**2\n",
    "g_[3,3] = -r**2 * sympy.sin(theta)**2\n",
    "\n",
    "geometry = computeGeometry(g_,coords)"
   ]
  },
  {
   "cell_type": "code",
   "execution_count": 4,
   "metadata": {},
   "outputs": [
    {
     "name": "stdout",
     "output_type": "stream",
     "text": [
      "\n",
      "ScalarCurvature = -Derivative(A(r), (r, 2))/(A(r)*B(r)) + Derivative(A(r), r)*Derivative(B(r), r)/(2*A(r)*B(r)**2) + Derivative(A(r), r)**2/(2*A(r)**2*B(r)) + 2*Derivative(B(r), r)/(r*B(r)**2) - 2*Derivative(A(r), r)/(r*A(r)*B(r)) + 2/r**2 - 2/(r**2*B(r))\n",
      "\n",
      "Nonzero components of Christoffel symbols:\n",
      "C^0_01 = Derivative(A(r), r)/(2*A(r))\n",
      "C^1_00 = Derivative(A(r), r)/(2*B(r))\n",
      "C^1_11 = Derivative(B(r), r)/(2*B(r))\n",
      "C^1_22 = -r/B(r)\n",
      "C^1_33 = -r*sin(theta)**2/B(r)\n",
      "C^2_12 = 1/r\n",
      "C^2_33 = -sin(theta)*cos(theta)\n",
      "C^3_13 = 1/r\n",
      "C^3_23 = cos(theta)/sin(theta)\n",
      "\n",
      "Nonzero components of Einstein tensor:\n",
      "G^00 = -(r*Derivative(B(r), r) + B(r)**2 - B(r))/(r**2*A(r)*B(r)**2)\n",
      "G^11 = (-Derivative(A(r), r)/(r*A(r)) + B(r)/r**2 - 1/r**2)/B(r)**2\n",
      "G^22 = (-2*r*A(r)*B(r)*Derivative(A(r), (r, 2)) + r*A(r)*Derivative(A(r), r)*Derivative(B(r), r) + r*B(r)*Derivative(A(r), r)**2 + 2*A(r)**2*Derivative(B(r), r) - 2*A(r)*B(r)*Derivative(A(r), r))/(4*r**3*A(r)**2*B(r)**2)\n",
      "G^33 = (-2*r*A(r)*B(r)*Derivative(A(r), (r, 2)) + r*A(r)*Derivative(A(r), r)*Derivative(B(r), r) + r*B(r)*Derivative(A(r), r)**2 + 2*A(r)**2*Derivative(B(r), r) - 2*A(r)*B(r)*Derivative(A(r), r))/(4*r**3*A(r)**2*B(r)**2*sin(theta)**2)\n",
      "\n",
      "Nonzero components of Riemann tensor:\n",
      "R_010 = 1\n",
      "R_020 = 2\n",
      "R_030 = 3\n",
      "R_121 = 2\n",
      "R_131 = 3\n",
      "R_232 = 3\n"
     ]
    }
   ],
   "source": [
    "printGeometry(geometry)"
   ]
  },
  {
   "cell_type": "code",
   "execution_count": 5,
   "metadata": {},
   "outputs": [
    {
     "data": {
      "text/latex": [
       "$\\displaystyle - \\frac{\\frac{d^{2}}{d r^{2}} A{\\left(r \\right)}}{2 B{\\left(r \\right)}} + \\frac{\\frac{d}{d r} A{\\left(r \\right)} \\frac{d}{d r} B{\\left(r \\right)}}{4 B^{2}{\\left(r \\right)}} + \\frac{\\left(\\frac{d}{d r} A{\\left(r \\right)}\\right)^{2}}{4 A{\\left(r \\right)} B{\\left(r \\right)}} - \\frac{\\frac{d}{d r} A{\\left(r \\right)}}{r B{\\left(r \\right)}}$"
      ],
      "text/plain": [
       "-Derivative(A(r), (r, 2))/(2*B(r)) + Derivative(A(r), r)*Derivative(B(r), r)/(4*B(r)**2) + Derivative(A(r), r)**2/(4*A(r)*B(r)) - Derivative(A(r), r)/(r*B(r))"
      ]
     },
     "metadata": {},
     "output_type": "display_data"
    },
    {
     "name": "stdout",
     "output_type": "stream",
     "text": [
      "----\n"
     ]
    },
    {
     "data": {
      "text/latex": [
       "$\\displaystyle \\frac{\\frac{d^{2}}{d r^{2}} A{\\left(r \\right)}}{2 A{\\left(r \\right)}} - \\frac{\\frac{d}{d r} A{\\left(r \\right)} \\frac{d}{d r} B{\\left(r \\right)}}{4 A{\\left(r \\right)} B{\\left(r \\right)}} - \\frac{\\left(\\frac{d}{d r} A{\\left(r \\right)}\\right)^{2}}{4 A^{2}{\\left(r \\right)}} - \\frac{\\frac{d}{d r} B{\\left(r \\right)}}{r B{\\left(r \\right)}}$"
      ],
      "text/plain": [
       "Derivative(A(r), (r, 2))/(2*A(r)) - Derivative(A(r), r)*Derivative(B(r), r)/(4*A(r)*B(r)) - Derivative(A(r), r)**2/(4*A(r)**2) - Derivative(B(r), r)/(r*B(r))"
      ]
     },
     "metadata": {},
     "output_type": "display_data"
    },
    {
     "name": "stdout",
     "output_type": "stream",
     "text": [
      "----\n"
     ]
    },
    {
     "data": {
      "text/latex": [
       "$\\displaystyle - \\frac{r \\frac{d}{d r} B{\\left(r \\right)}}{2 B^{2}{\\left(r \\right)}} + \\frac{r \\frac{d}{d r} A{\\left(r \\right)}}{2 A{\\left(r \\right)} B{\\left(r \\right)}} - 1 + \\frac{1}{B{\\left(r \\right)}}$"
      ],
      "text/plain": [
       "-r*Derivative(B(r), r)/(2*B(r)**2) + r*Derivative(A(r), r)/(2*A(r)*B(r)) - 1 + 1/B(r)"
      ]
     },
     "metadata": {},
     "output_type": "display_data"
    },
    {
     "name": "stdout",
     "output_type": "stream",
     "text": [
      "----\n"
     ]
    },
    {
     "data": {
      "text/latex": [
       "$\\displaystyle \\frac{\\left(- r A{\\left(r \\right)} \\frac{d}{d r} B{\\left(r \\right)} + r B{\\left(r \\right)} \\frac{d}{d r} A{\\left(r \\right)} - 2 \\left(B{\\left(r \\right)} - 1\\right) A{\\left(r \\right)} B{\\left(r \\right)}\\right) \\sin^{2}{\\left(\\theta \\right)}}{2 A{\\left(r \\right)} B^{2}{\\left(r \\right)}}$"
      ],
      "text/plain": [
       "(-r*A(r)*Derivative(B(r), r) + r*B(r)*Derivative(A(r), r) - 2*(B(r) - 1)*A(r)*B(r))*sin(theta)**2/(2*A(r)*B(r)**2)"
      ]
     },
     "metadata": {},
     "output_type": "display_data"
    },
    {
     "name": "stdout",
     "output_type": "stream",
     "text": [
      "----\n"
     ]
    }
   ],
   "source": [
    "# Ricci\n",
    "r4i_ = geometry[7]\n",
    "\n",
    "# Ricci is diagonal\n",
    "for ele in np.diag(r4i_):\n",
    "    display(sympy.simplify(ele))\n",
    "    print(\"----\")"
   ]
  },
  {
   "cell_type": "markdown",
   "metadata": {},
   "source": [
    "Which is exactly what we expect."
   ]
  },
  {
   "cell_type": "markdown",
   "metadata": {},
   "source": [
    "**c)**\n",
    "\n",
    "We need the determinant of our metric for the calculations."
   ]
  },
  {
   "cell_type": "code",
   "execution_count": 6,
   "metadata": {},
   "outputs": [
    {
     "data": {
      "text/latex": [
       "$\\displaystyle - r^{4} A{\\left(r \\right)} B{\\left(r \\right)} \\sin^{2}{\\left(\\theta \\right)}$"
      ],
      "text/plain": [
       "-r**4*A(r)*B(r)*sin(theta)**2"
      ]
     },
     "execution_count": 6,
     "metadata": {},
     "output_type": "execute_result"
    }
   ],
   "source": [
    "determinantg(g_)"
   ]
  },
  {
   "cell_type": "code",
   "execution_count": 7,
   "metadata": {},
   "outputs": [
    {
     "data": {
      "text/plain": [
       "array([[A(r), 0, 0, 0],\n",
       "       [0, -B(r), 0, 0],\n",
       "       [0, 0, -r**2, 0],\n",
       "       [0, 0, 0, -r**2*sin(theta)**2]], dtype=object)"
      ]
     },
     "metadata": {},
     "output_type": "display_data"
    }
   ],
   "source": [
    "display(g_)"
   ]
  },
  {
   "cell_type": "markdown",
   "metadata": {},
   "source": [
    "**d)**\n",
    "\n",
    "Let us calculate the stress tensor.\n",
    "It is defined as\n",
    "\n",
    "$$\n",
    "T^{\\mu \\nu} = -F^{\\mu \\alpha} F^{\\nu}_{\\alpha} + \\frac14 g^{\\mu \\nu} F_{\\alpha \\beta}F^{\\alpha \\beta}.\n",
    "$$\n",
    "We define the function `stressTensor` which calculates this.\n",
    "Note that we use matrix-operations provided by NumPy."
   ]
  },
  {
   "cell_type": "code",
   "execution_count": 8,
   "metadata": {},
   "outputs": [],
   "source": [
    "def stressTensor(F, g_):\n",
    "    \"\"\"Compute stress tensor T from EM-field F\"\"\"\n",
    "    g = ginv(g_)\n",
    "    d = g_[:,0].size\n",
    "    T = np.zeros((d,d),dtype=object)\n",
    "    for mu in range(d):\n",
    "        for nu in range(d):\n",
    "            T[mu, nu] = - F[mu, :] @ (g_ @ F)[:, nu] + sympy.Rational(1, 4) * g[mu, nu] * np.tensordot(g_ @ F @ g_, F)\n",
    "    \n",
    "    return T"
   ]
  },
  {
   "cell_type": "markdown",
   "metadata": {},
   "source": [
    "Now, we want the stress tensor with lower indices.\n",
    "That is\n",
    "$$\n",
    "T_{\\mu \\nu} = g_{\\mu \\sigma} T^{\\sigma \\gamma} g_{\\gamma \\nu}\n",
    "$$"
   ]
  },
  {
   "cell_type": "code",
   "execution_count": 9,
   "metadata": {},
   "outputs": [],
   "source": [
    "def lower(T):\n",
    "    \"\"\"Lower the indices of the (upper) tensor T\"\"\"\n",
    "    return g_ @ T @ g_"
   ]
  },
  {
   "cell_type": "code",
   "execution_count": 10,
   "metadata": {},
   "outputs": [],
   "source": [
    "F = np.zeros(g_.shape, dtype=object)\n",
    "Q = sympy.symbols('Q')\n",
    "E = sympy.sqrt(A * B) * Q / (4*sympy.pi*r**2)\n",
    "\n",
    "F[1, 0] = -E / (A * B)\n",
    "F[0, 1] = E / (A * B)\n",
    "\n",
    "\n",
    "T = stressTensor(F, g_)"
   ]
  },
  {
   "cell_type": "code",
   "execution_count": 11,
   "metadata": {},
   "outputs": [
    {
     "name": "stdout",
     "output_type": "stream",
     "text": [
      "(0, 0)\n"
     ]
    },
    {
     "data": {
      "text/latex": [
       "$\\displaystyle - \\frac{3 Q^{2} A{\\left(r \\right)}}{32 \\pi^{2} r^{4}}$"
      ],
      "text/plain": [
       "-3*Q**2*A(r)/(32*pi**2*r**4)"
      ]
     },
     "metadata": {},
     "output_type": "display_data"
    },
    {
     "name": "stdout",
     "output_type": "stream",
     "text": [
      "(1, 1)\n"
     ]
    },
    {
     "data": {
      "text/latex": [
       "$\\displaystyle \\frac{3 Q^{2} B{\\left(r \\right)}}{32 \\pi^{2} r^{4}}$"
      ],
      "text/plain": [
       "3*Q**2*B(r)/(32*pi**2*r**4)"
      ]
     },
     "metadata": {},
     "output_type": "display_data"
    },
    {
     "name": "stdout",
     "output_type": "stream",
     "text": [
      "(2, 2)\n"
     ]
    },
    {
     "data": {
      "text/latex": [
       "$\\displaystyle \\frac{Q^{2}}{32 \\pi^{2} r^{2}}$"
      ],
      "text/plain": [
       "Q**2/(32*pi**2*r**2)"
      ]
     },
     "metadata": {},
     "output_type": "display_data"
    },
    {
     "name": "stdout",
     "output_type": "stream",
     "text": [
      "(3, 3)\n"
     ]
    },
    {
     "data": {
      "text/latex": [
       "$\\displaystyle \\frac{Q^{2} \\sin^{2}{\\left(\\theta \\right)}}{32 \\pi^{2} r^{2}}$"
      ],
      "text/plain": [
       "Q**2*sin(theta)**2/(32*pi**2*r**2)"
      ]
     },
     "metadata": {},
     "output_type": "display_data"
    }
   ],
   "source": [
    "T_ = sympy.simplify(lower(T))\n",
    "displayNonZero(T_)"
   ]
  },
  {
   "cell_type": "markdown",
   "metadata": {},
   "source": [
    "Now, print the non-zero components of T:"
   ]
  },
  {
   "cell_type": "code",
   "execution_count": 12,
   "metadata": {},
   "outputs": [
    {
     "name": "stdout",
     "output_type": "stream",
     "text": [
      "(0, 0)\n"
     ]
    },
    {
     "data": {
      "text/latex": [
       "$\\displaystyle - \\frac{\\frac{d^{2}}{d r^{2}} A{\\left(r \\right)}}{2 B{\\left(r \\right)}} + \\frac{\\frac{d}{d r} A{\\left(r \\right)} \\frac{d}{d r} B{\\left(r \\right)}}{4 B^{2}{\\left(r \\right)}} + \\frac{\\left(\\frac{d}{d r} A{\\left(r \\right)}\\right)^{2}}{4 A{\\left(r \\right)} B{\\left(r \\right)}} - \\frac{\\frac{d}{d r} A{\\left(r \\right)}}{r B{\\left(r \\right)}} = \\frac{3 Q^{2} k A{\\left(r \\right)}}{32 \\pi^{2} r^{4}}$"
      ],
      "text/plain": [
       "Eq(-Derivative(A(r), (r, 2))/(2*B(r)) + Derivative(A(r), r)*Derivative(B(r), r)/(4*B(r)**2) + Derivative(A(r), r)**2/(4*A(r)*B(r)) - Derivative(A(r), r)/(r*B(r)), 3*Q**2*k*A(r)/(32*pi**2*r**4))"
      ]
     },
     "metadata": {},
     "output_type": "display_data"
    },
    {
     "name": "stdout",
     "output_type": "stream",
     "text": [
      "(1, 1)\n"
     ]
    },
    {
     "data": {
      "text/latex": [
       "$\\displaystyle \\frac{\\frac{d^{2}}{d r^{2}} A{\\left(r \\right)}}{2 A{\\left(r \\right)}} - \\frac{\\frac{d}{d r} A{\\left(r \\right)} \\frac{d}{d r} B{\\left(r \\right)}}{4 A{\\left(r \\right)} B{\\left(r \\right)}} - \\frac{\\left(\\frac{d}{d r} A{\\left(r \\right)}\\right)^{2}}{4 A^{2}{\\left(r \\right)}} - \\frac{\\frac{d}{d r} B{\\left(r \\right)}}{r B{\\left(r \\right)}} = - \\frac{3 Q^{2} k B{\\left(r \\right)}}{32 \\pi^{2} r^{4}}$"
      ],
      "text/plain": [
       "Eq(Derivative(A(r), (r, 2))/(2*A(r)) - Derivative(A(r), r)*Derivative(B(r), r)/(4*A(r)*B(r)) - Derivative(A(r), r)**2/(4*A(r)**2) - Derivative(B(r), r)/(r*B(r)), -3*Q**2*k*B(r)/(32*pi**2*r**4))"
      ]
     },
     "metadata": {},
     "output_type": "display_data"
    },
    {
     "name": "stdout",
     "output_type": "stream",
     "text": [
      "(2, 2)\n"
     ]
    },
    {
     "data": {
      "text/latex": [
       "$\\displaystyle - \\frac{r \\frac{d}{d r} B{\\left(r \\right)}}{2 B^{2}{\\left(r \\right)}} + \\frac{r \\frac{d}{d r} A{\\left(r \\right)}}{2 A{\\left(r \\right)} B{\\left(r \\right)}} - 1 + \\frac{1}{B{\\left(r \\right)}} = - \\frac{Q^{2} k}{32 \\pi^{2} r^{2}}$"
      ],
      "text/plain": [
       "Eq(-r*Derivative(B(r), r)/(2*B(r)**2) + r*Derivative(A(r), r)/(2*A(r)*B(r)) - 1 + 1/B(r), -Q**2*k/(32*pi**2*r**2))"
      ]
     },
     "metadata": {},
     "output_type": "display_data"
    },
    {
     "name": "stdout",
     "output_type": "stream",
     "text": [
      "(3, 3)\n"
     ]
    },
    {
     "data": {
      "text/latex": [
       "$\\displaystyle - \\frac{r \\sin^{2}{\\left(\\theta \\right)} \\frac{d}{d r} B{\\left(r \\right)}}{2 B^{2}{\\left(r \\right)}} + \\frac{r \\sin^{2}{\\left(\\theta \\right)} \\frac{d}{d r} A{\\left(r \\right)}}{2 A{\\left(r \\right)} B{\\left(r \\right)}} - \\frac{\\left(B{\\left(r \\right)} - 1\\right) \\sin^{2}{\\left(\\theta \\right)}}{B{\\left(r \\right)}} = - \\frac{Q^{2} k \\sin^{2}{\\left(\\theta \\right)}}{32 \\pi^{2} r^{2}}$"
      ],
      "text/plain": [
       "Eq(-r*sin(theta)**2*Derivative(B(r), r)/(2*B(r)**2) + r*sin(theta)**2*Derivative(A(r), r)/(2*A(r)*B(r)) - (B(r) - 1)*sin(theta)**2/B(r), -Q**2*k*sin(theta)**2/(32*pi**2*r**2))"
      ]
     },
     "metadata": {},
     "output_type": "display_data"
    }
   ],
   "source": [
    "k = sympy.Symbol(\"k\")\n",
    "ricci_ = geometry[7]\n",
    "for i in range(4):\n",
    "    print(f\"({i}, {i})\")\n",
    "    display(sympy.Eq(ricci_[i, i], -k * T_[i, i]))"
   ]
  },
  {
   "cell_type": "markdown",
   "metadata": {},
   "source": [
    "e)\n",
    "\n"
   ]
  },
  {
   "cell_type": "markdown",
   "metadata": {},
   "source": [
    "Notice that taking \n",
    "$$\n",
    "B R_{00} + A R_{11}\n",
    "$$\n",
    "vastly simplifies our expression, we get"
   ]
  },
  {
   "cell_type": "code",
   "execution_count": 13,
   "metadata": {},
   "outputs": [],
   "source": [
    "LHS = sympy.simplify(B * ricci_[0, 0] + A * ricci_[1,1])\n",
    "RHS = sympy.simplify(-k * (B * T_[0,0] + A * T_[1,1]))"
   ]
  },
  {
   "cell_type": "code",
   "execution_count": 14,
   "metadata": {},
   "outputs": [
    {
     "data": {
      "text/latex": [
       "$\\displaystyle 0$"
      ],
      "text/plain": [
       "0"
      ]
     },
     "execution_count": 14,
     "metadata": {},
     "output_type": "execute_result"
    }
   ],
   "source": [
    "RHS"
   ]
  },
  {
   "cell_type": "markdown",
   "metadata": {},
   "source": [
    "So solving LHS is simple."
   ]
  },
  {
   "cell_type": "code",
   "execution_count": 15,
   "metadata": {},
   "outputs": [
    {
     "data": {
      "text/latex": [
       "$\\displaystyle - \\frac{A{\\left(r \\right)} \\frac{d}{d r} B{\\left(r \\right)}}{r B{\\left(r \\right)}} - \\frac{\\frac{d}{d r} A{\\left(r \\right)}}{r} = 0$"
      ],
      "text/plain": [
       "Eq(-A(r)*Derivative(B(r), r)/(r*B(r)) - Derivative(A(r), r)/r, 0)"
      ]
     },
     "execution_count": 15,
     "metadata": {},
     "output_type": "execute_result"
    }
   ],
   "source": [
    "sympy.Eq(LHS, 0)"
   ]
  },
  {
   "cell_type": "markdown",
   "metadata": {},
   "source": [
    "f)\n",
    "\n"
   ]
  },
  {
   "cell_type": "code",
   "execution_count": 16,
   "metadata": {},
   "outputs": [
    {
     "data": {
      "text/latex": [
       "$\\displaystyle \\frac{Q^{2}}{32 \\pi^{2} r^{2}}$"
      ],
      "text/plain": [
       "Q**2/(32*pi**2*r**2)"
      ]
     },
     "execution_count": 16,
     "metadata": {},
     "output_type": "execute_result"
    }
   ],
   "source": [
    "T_[2, 2]"
   ]
  },
  {
   "cell_type": "code",
   "execution_count": 17,
   "metadata": {},
   "outputs": [
    {
     "data": {
      "text/latex": [
       "$\\displaystyle - \\frac{\\frac{d}{d r} \\frac{1}{B{\\left(r \\right)}}}{r} - \\frac{\\frac{d}{d r} B{\\left(r \\right)}}{r B^{2}{\\left(r \\right)}}$"
      ],
      "text/plain": [
       "-Derivative(1/B(r), r)/r - Derivative(B(r), r)/(r*B(r)**2)"
      ]
     },
     "execution_count": 17,
     "metadata": {},
     "output_type": "execute_result"
    }
   ],
   "source": [
    "LHS.subs(A, 1/B)"
   ]
  },
  {
   "cell_type": "code",
   "execution_count": 18,
   "metadata": {},
   "outputs": [],
   "source": [
    "LHS2 = sympy.simplify(ricci_[2,2].subs(A, 1/B))"
   ]
  },
  {
   "cell_type": "code",
   "execution_count": 19,
   "metadata": {},
   "outputs": [],
   "source": [
    "RHS2 = -k * T_[2,2].subs(A, 1/B)"
   ]
  },
  {
   "cell_type": "code",
   "execution_count": 20,
   "metadata": {},
   "outputs": [],
   "source": [
    "sols = sympy.dsolve(sympy.Eq(LHS2, RHS2))"
   ]
  },
  {
   "cell_type": "code",
   "execution_count": 21,
   "metadata": {},
   "outputs": [
    {
     "data": {
      "text/latex": [
       "$\\displaystyle - \\frac{r \\frac{d}{d r} B{\\left(r \\right)}}{B^{2}{\\left(r \\right)}} - 1 + \\frac{1}{B{\\left(r \\right)}}$"
      ],
      "text/plain": [
       "-r*Derivative(B(r), r)/B(r)**2 - 1 + 1/B(r)"
      ]
     },
     "metadata": {},
     "output_type": "display_data"
    },
    {
     "data": {
      "text/latex": [
       "$\\displaystyle - \\frac{Q^{2} k}{32 \\pi^{2} r^{2}}$"
      ],
      "text/plain": [
       "-Q**2*k/(32*pi**2*r**2)"
      ]
     },
     "metadata": {},
     "output_type": "display_data"
    }
   ],
   "source": [
    "display(LHS2)\n",
    "display(RHS2)"
   ]
  },
  {
   "cell_type": "code",
   "execution_count": 22,
   "metadata": {},
   "outputs": [
    {
     "data": {
      "text/latex": [
       "$\\displaystyle \\frac{32 \\pi^{2} r^{2}}{C_{1} r + Q^{2} k + 32 \\pi^{2} r^{2}}$"
      ],
      "text/plain": [
       "32*pi**2*r**2/(C1*r + Q**2*k + 32*pi**2*r**2)"
      ]
     },
     "metadata": {},
     "output_type": "display_data"
    },
    {
     "data": {
      "text/latex": [
       "$\\displaystyle \\frac{C_{1}}{32 \\pi^{2} r} + \\frac{Q^{2} k}{32 \\pi^{2} r^{2}} + 1$"
      ],
      "text/plain": [
       "C1/(32*pi**2*r) + Q**2*k/(32*pi**2*r**2) + 1"
      ]
     },
     "metadata": {},
     "output_type": "display_data"
    }
   ],
   "source": [
    "# B\n",
    "display(sols.rhs)\n",
    "\n",
    "# A\n",
    "display(sympy.simplify(1/sols.rhs))"
   ]
  },
  {
   "cell_type": "code",
   "execution_count": 23,
   "metadata": {},
   "outputs": [
    {
     "data": {
      "text/latex": [
       "$\\displaystyle B{\\left(r \\right)} = \\frac{4 \\pi r^{2}}{- 8 \\pi G M r + G Q^{2} + 4 \\pi r^{2}}$"
      ],
      "text/plain": [
       "Eq(B(r), 4*pi*r**2/(-8*pi*G*M*r + G*Q**2 + 4*pi*r**2))"
      ]
     },
     "execution_count": 23,
     "metadata": {},
     "output_type": "execute_result"
    }
   ],
   "source": [
    "G, M = sympy.symbols(\"G M\", real=True, positive=True)\n",
    "sympy.simplify(sols.subs(\"C1\", -64*sympy.pi**2*G*M).subs(k, 8*sympy.pi*G))"
   ]
  },
  {
   "cell_type": "code",
   "execution_count": 24,
   "metadata": {},
   "outputs": [
    {
     "data": {
      "text/latex": [
       "$\\displaystyle - \\frac{2 G M}{r} + \\frac{G Q^{2}}{4 \\pi r^{2}} + 1$"
      ],
      "text/plain": [
       "-2*G*M/r + G*Q**2/(4*pi*r**2) + 1"
      ]
     },
     "execution_count": 24,
     "metadata": {},
     "output_type": "execute_result"
    }
   ],
   "source": [
    "# A\n",
    "A1 = sympy.simplify((1/sols.subs(\"C1\", -64*sympy.pi**2*G*M).rhs).subs(k, 8*sympy.pi*G))\n",
    "A1"
   ]
  },
  {
   "cell_type": "code",
   "execution_count": 25,
   "metadata": {},
   "outputs": [
    {
     "data": {
      "text/latex": [
       "$\\displaystyle \\frac{Q \\sqrt{A{\\left(r \\right)} B{\\left(r \\right)}}}{4 \\pi r^{2}}$"
      ],
      "text/plain": [
       "Q*sqrt(A(r)*B(r))/(4*pi*r**2)"
      ]
     },
     "execution_count": 25,
     "metadata": {},
     "output_type": "execute_result"
    }
   ],
   "source": [
    "E"
   ]
  },
  {
   "cell_type": "code",
   "execution_count": 26,
   "metadata": {},
   "outputs": [
    {
     "data": {
      "text/latex": [
       "$\\displaystyle \\frac{1}{4}$"
      ],
      "text/plain": [
       "1/4"
      ]
     },
     "execution_count": 26,
     "metadata": {},
     "output_type": "execute_result"
    }
   ],
   "source": [
    "sympy.Rational(8, 32)"
   ]
  },
  {
   "cell_type": "code",
   "execution_count": 27,
   "metadata": {},
   "outputs": [
    {
     "name": "stdout",
     "output_type": "stream",
     "text": [
      "(0, 0)\n"
     ]
    },
    {
     "data": {
      "text/latex": [
       "$\\displaystyle - \\frac{3 Q^{2}}{32 \\pi^{2} r^{4} A{\\left(r \\right)}}$"
      ],
      "text/plain": [
       "-3*Q**2/(32*pi**2*r**4*A(r))"
      ]
     },
     "metadata": {},
     "output_type": "display_data"
    },
    {
     "name": "stdout",
     "output_type": "stream",
     "text": [
      "(1, 1)\n"
     ]
    },
    {
     "data": {
      "text/latex": [
       "$\\displaystyle \\frac{3 Q^{2}}{32 \\pi^{2} r^{4} B{\\left(r \\right)}}$"
      ],
      "text/plain": [
       "3*Q**2/(32*pi**2*r**4*B(r))"
      ]
     },
     "metadata": {},
     "output_type": "display_data"
    },
    {
     "name": "stdout",
     "output_type": "stream",
     "text": [
      "(2, 2)\n"
     ]
    },
    {
     "data": {
      "text/latex": [
       "$\\displaystyle \\frac{Q^{2}}{32 \\pi^{2} r^{6}}$"
      ],
      "text/plain": [
       "Q**2/(32*pi**2*r**6)"
      ]
     },
     "metadata": {},
     "output_type": "display_data"
    },
    {
     "name": "stdout",
     "output_type": "stream",
     "text": [
      "(3, 3)\n"
     ]
    },
    {
     "data": {
      "text/latex": [
       "$\\displaystyle \\frac{Q^{2}}{32 \\pi^{2} r^{6} \\sin^{2}{\\left(\\theta \\right)}}$"
      ],
      "text/plain": [
       "Q**2/(32*pi**2*r**6*sin(theta)**2)"
      ]
     },
     "metadata": {},
     "output_type": "display_data"
    }
   ],
   "source": [
    "displayNonZero(T)"
   ]
  },
  {
   "cell_type": "code",
   "execution_count": 28,
   "metadata": {},
   "outputs": [
    {
     "data": {
      "text/latex": [
       "$\\displaystyle - \\frac{r \\frac{d}{d r} B{\\left(r \\right)}}{B^{2}{\\left(r \\right)}} - 1 + \\frac{1}{B{\\left(r \\right)}}$"
      ],
      "text/plain": [
       "-r*Derivative(B(r), r)/B(r)**2 - 1 + 1/B(r)"
      ]
     },
     "execution_count": 28,
     "metadata": {},
     "output_type": "execute_result"
    }
   ],
   "source": [
    "sympy.simplify(ricci_[2,2].subs(A, 1/B))"
   ]
  },
  {
   "cell_type": "code",
   "execution_count": 29,
   "metadata": {},
   "outputs": [
    {
     "data": {
      "text/latex": [
       "$\\displaystyle B{\\left(r \\right)} = \\frac{32 \\pi^{2} r^{2}}{C_{1} r + Q^{2} k + 32 \\pi^{2} r^{2}}$"
      ],
      "text/plain": [
       "Eq(B(r), 32*pi**2*r**2/(C1*r + Q**2*k + 32*pi**2*r**2))"
      ]
     },
     "execution_count": 29,
     "metadata": {},
     "output_type": "execute_result"
    }
   ],
   "source": [
    "sols"
   ]
  },
  {
   "cell_type": "markdown",
   "metadata": {},
   "source": [
    "# Finding the singularities"
   ]
  },
  {
   "cell_type": "code",
   "execution_count": 30,
   "metadata": {},
   "outputs": [
    {
     "data": {
      "text/latex": [
       "$\\displaystyle - \\frac{\\sqrt{G} \\sqrt{4 \\pi G M^{2} - Q^{2}}}{2 \\sqrt{\\pi}} + G M$"
      ],
      "text/plain": [
       "-sqrt(G)*sqrt(4*pi*G*M**2 - Q**2)/(2*sqrt(pi)) + G*M"
      ]
     },
     "metadata": {},
     "output_type": "display_data"
    },
    {
     "data": {
      "text/latex": [
       "$\\displaystyle \\frac{\\sqrt{G} \\sqrt{4 \\pi G M^{2} - Q^{2}}}{2 \\sqrt{\\pi}} + G M$"
      ],
      "text/plain": [
       "sqrt(G)*sqrt(4*pi*G*M**2 - Q**2)/(2*sqrt(pi)) + G*M"
      ]
     },
     "metadata": {},
     "output_type": "display_data"
    }
   ],
   "source": [
    "for sol in sympy.solve(A1, r):\n",
    "    display(sympy.simplify(sol))"
   ]
  },
  {
   "cell_type": "code",
   "execution_count": 31,
   "metadata": {},
   "outputs": [
    {
     "data": {
      "text/latex": [
       "$\\displaystyle 0$"
      ],
      "text/plain": [
       "0"
      ]
     },
     "execution_count": 31,
     "metadata": {},
     "output_type": "execute_result"
    }
   ],
   "source": [
    "sol1, sol2 = sympy.solve(A1, r)\n",
    "myexpr = G*M*(1-sympy.sqrt(1 - Q**2 / (G*M**2 * 4 * sympy.pi)))\n",
    "sympy.simplify(sol1 - myexpr)"
   ]
  },
  {
   "cell_type": "code",
   "execution_count": 32,
   "metadata": {},
   "outputs": [
    {
     "data": {
      "text/latex": [
       "$\\displaystyle G M \\left(1 - \\sqrt{1 - \\frac{Q^{2}}{4 \\pi G M^{2}}}\\right)$"
      ],
      "text/plain": [
       "G*M*(1 - sqrt(1 - Q**2/(4*pi*G*M**2)))"
      ]
     },
     "execution_count": 32,
     "metadata": {},
     "output_type": "execute_result"
    }
   ],
   "source": [
    "myexpr"
   ]
  },
  {
   "cell_type": "code",
   "execution_count": 91,
   "metadata": {},
   "outputs": [],
   "source": [
    "riemann = geometry[5]\n",
    "riemann_ = geometry[6]\n",
    "\n",
    "d = geometry[0].size\n",
    "kretScal = 0\n",
    "for i in range(d):\n",
    "    for j in range(d):\n",
    "        for k in range(d):\n",
    "            for l in range(d):\n",
    "                kretScal += sympy.simplify((riemann[i, j, k, l] * riemann_[i, j, k, l]).subs(A, A1).subs(B, 1/A1))\n",
    "kretScal = sympy.simplify(kretScal)"
   ]
  },
  {
   "cell_type": "markdown",
   "metadata": {},
   "source": [
    "We have two singularities arising from the zero points of A.\n",
    "Let us now consider them closely."
   ]
  },
  {
   "cell_type": "code",
   "execution_count": 92,
   "metadata": {},
   "outputs": [],
   "source": [
    "# myexpr1 and myexpr two correspond to sol1 and sol2 respectively.\n",
    "myexpr1 = G*M*(1-sympy.sqrt(1 - Q**2 / (G*M**2 * 4 * sympy.pi)))\n",
    "myexpr2 = G*M*(1+sympy.sqrt(1 - Q**2 / (G*M**2 * 4 * sympy.pi)))"
   ]
  },
  {
   "cell_type": "markdown",
   "metadata": {},
   "source": [
    "It is `myexpr2` we primarily expect to be a coordinate singularity (and not a physical one), as this reduces to the Schwarzschild radius as the charge goes to zero."
   ]
  },
  {
   "cell_type": "code",
   "execution_count": 93,
   "metadata": {},
   "outputs": [
    {
     "data": {
      "text/latex": [
       "$\\displaystyle \\frac{16 \\pi^{2} G^{2} r^{8} \\left(8 \\pi M r - Q^{2}\\right)^{2} \\left(\\cos^{2}{\\left(\\theta \\right)} - 2\\right) \\left(- 8 \\pi G M r + G Q^{2} + 4 \\pi r^{2}\\right)^{2} \\sin^{2}{\\left(\\theta \\right)} + G^{2} \\left(4 \\pi M r - Q^{2}\\right)^{2} \\left(\\cos^{2}{\\left(\\theta \\right)} - 2\\right) \\left(- 8 \\pi G M r + G Q^{2} + 4 \\pi r^{2}\\right)^{4} - 64 \\pi^{3} r^{8} \\left(\\sin^{4}{\\left(\\theta \\right)} + 1\\right) \\left(- 8 \\pi G M r + G Q^{2} + 4 \\pi r^{2}\\right) \\left(- 8 \\pi G M r + G Q^{2} + 4 \\pi r^{2} + 4 \\pi r \\left(G M - r\\right)\\right)^{2} + 256 \\pi^{4} r^{8} \\left(\\cos^{2}{\\left(\\theta \\right)} - 2\\right) \\left(- 8 \\pi G M r + G Q^{2} + 4 \\pi r^{2} + 4 \\pi r \\left(G M - r\\right)\\right)^{2} + 4 \\pi r^{4} \\left(\\sin^{4}{\\left(\\theta \\right)} + 1\\right) \\left(- 8 \\pi G M r + G Q^{2} + 4 \\pi r^{2}\\right)^{3} \\left(- 8 \\pi G M r + G Q^{2} + 4 \\pi r^{2} + 4 \\pi r \\left(G M - r\\right)\\right)^{2} + 64 \\pi^{3} r^{4} \\left(- 8 \\pi G M r + G Q^{2} + 4 \\pi r^{2}\\right) \\left(- 24 \\pi G M r + 3 G Q^{2} + 16 \\pi r^{2} + 16 \\pi r \\left(G M - r\\right)\\right)^{2} - 4 \\pi \\left(- 8 \\pi G M r + G Q^{2} + 4 \\pi r^{2}\\right)^{3} \\left(- 24 \\pi G M r + 3 G Q^{2} + 16 \\pi r^{2} + 16 \\pi r \\left(G M - r\\right)\\right)^{2}}{128 \\pi^{4} r^{10} \\left(- 8 \\pi G M r + G Q^{2} + 4 \\pi r^{2}\\right)^{2}}$"
      ],
      "text/plain": [
       "(16*pi**2*G**2*r**8*(8*pi*M*r - Q**2)**2*(cos(theta)**2 - 2)*(-8*pi*G*M*r + G*Q**2 + 4*pi*r**2)**2*sin(theta)**2 + G**2*(4*pi*M*r - Q**2)**2*(cos(theta)**2 - 2)*(-8*pi*G*M*r + G*Q**2 + 4*pi*r**2)**4 - 64*pi**3*r**8*(sin(theta)**4 + 1)*(-8*pi*G*M*r + G*Q**2 + 4*pi*r**2)*(-8*pi*G*M*r + G*Q**2 + 4*pi*r**2 + 4*pi*r*(G*M - r))**2 + 256*pi**4*r**8*(cos(theta)**2 - 2)*(-8*pi*G*M*r + G*Q**2 + 4*pi*r**2 + 4*pi*r*(G*M - r))**2 + 4*pi*r**4*(sin(theta)**4 + 1)*(-8*pi*G*M*r + G*Q**2 + 4*pi*r**2)**3*(-8*pi*G*M*r + G*Q**2 + 4*pi*r**2 + 4*pi*r*(G*M - r))**2 + 64*pi**3*r**4*(-8*pi*G*M*r + G*Q**2 + 4*pi*r**2)*(-24*pi*G*M*r + 3*G*Q**2 + 16*pi*r**2 + 16*pi*r*(G*M - r))**2 - 4*pi*(-8*pi*G*M*r + G*Q**2 + 4*pi*r**2)**3*(-24*pi*G*M*r + 3*G*Q**2 + 16*pi*r**2 + 16*pi*r*(G*M - r))**2)/(128*pi**4*r**10*(-8*pi*G*M*r + G*Q**2 + 4*pi*r**2)**2)"
      ]
     },
     "execution_count": 93,
     "metadata": {},
     "output_type": "execute_result"
    }
   ],
   "source": [
    "kretScal"
   ]
  },
  {
   "cell_type": "code",
   "execution_count": 94,
   "metadata": {},
   "outputs": [],
   "source": [
    "denominator = 128*sympy.pi**4 * r**10 * (-8 * sympy.pi * G * M * r + G * Q**2 + 4 * sympy.pi * r**2)**2"
   ]
  },
  {
   "cell_type": "code",
   "execution_count": 103,
   "metadata": {},
   "outputs": [],
   "source": [
    "num_terms = (kretScal * denominator).as_terms()"
   ]
  },
  {
   "cell_type": "code",
   "execution_count": 107,
   "metadata": {},
   "outputs": [
    {
     "data": {
      "text/plain": [
       "(-4*pi*(-8*pi*G*M*r + G*Q**2 + 4*pi*r**2)**3*(-24*pi*G*M*r + 3*G*Q**2 + 16*pi*r**2 + 16*pi*r*(G*M - r))**2,\n",
       " ((-12.566370614359172, 0.0), (0, 0, 0, 0, 0, 0, 3, 2, 0, 0), ()))"
      ]
     },
     "execution_count": 107,
     "metadata": {},
     "output_type": "execute_result"
    }
   ],
   "source": [
    "num_terms[0][0]"
   ]
  },
  {
   "cell_type": "code",
   "execution_count": null,
   "metadata": {},
   "outputs": [],
   "source": []
  },
  {
   "cell_type": "code",
   "execution_count": 120,
   "metadata": {},
   "outputs": [
    {
     "data": {
      "text/latex": [
       "$\\displaystyle \\frac{G^{2} \\left(8 \\pi M r - Q^{2}\\right)^{2} \\left(\\cos^{2}{\\left(\\theta \\right)} - 2\\right) \\sin^{2}{\\left(\\theta \\right)}}{8 \\pi^{2} r^{2}}$"
      ],
      "text/plain": [
       "G**2*(8*pi*M*r - Q**2)**2*(cos(theta)**2 - 2)*sin(theta)**2/(8*pi**2*r**2)"
      ]
     },
     "metadata": {},
     "output_type": "display_data"
    },
    {
     "data": {
      "text/latex": [
       "$\\displaystyle \\frac{G^{2} \\left(4 \\pi M r - Q^{2}\\right)^{2} \\left(\\cos^{2}{\\left(\\theta \\right)} - 2\\right) \\left(- 8 \\pi G M r + G Q^{2} + 4 \\pi r^{2}\\right)^{2}}{128 \\pi^{4} r^{10}}$"
      ],
      "text/plain": [
       "G**2*(4*pi*M*r - Q**2)**2*(cos(theta)**2 - 2)*(-8*pi*G*M*r + G*Q**2 + 4*pi*r**2)**2/(128*pi**4*r**10)"
      ]
     },
     "metadata": {},
     "output_type": "display_data"
    },
    {
     "data": {
      "text/latex": [
       "$\\displaystyle - \\frac{\\left(\\sin^{4}{\\left(\\theta \\right)} + 1\\right) \\left(- 8 \\pi G M r + G Q^{2} + 4 \\pi r^{2} + 4 \\pi r \\left(G M - r\\right)\\right)^{2}}{2 \\pi r^{2} \\left(- 8 \\pi G M r + G Q^{2} + 4 \\pi r^{2}\\right)}$"
      ],
      "text/plain": [
       "-(sin(theta)**4 + 1)*(-8*pi*G*M*r + G*Q**2 + 4*pi*r**2 + 4*pi*r*(G*M - r))**2/(2*pi*r**2*(-8*pi*G*M*r + G*Q**2 + 4*pi*r**2))"
      ]
     },
     "metadata": {},
     "output_type": "display_data"
    },
    {
     "data": {
      "text/latex": [
       "$\\displaystyle \\frac{2 \\left(\\cos^{2}{\\left(\\theta \\right)} - 2\\right) \\left(- 8 \\pi G M r + G Q^{2} + 4 \\pi r^{2} + 4 \\pi r \\left(G M - r\\right)\\right)^{2}}{r^{2} \\left(- 8 \\pi G M r + G Q^{2} + 4 \\pi r^{2}\\right)^{2}}$"
      ],
      "text/plain": [
       "2*(cos(theta)**2 - 2)*(-8*pi*G*M*r + G*Q**2 + 4*pi*r**2 + 4*pi*r*(G*M - r))**2/(r**2*(-8*pi*G*M*r + G*Q**2 + 4*pi*r**2)**2)"
      ]
     },
     "metadata": {},
     "output_type": "display_data"
    },
    {
     "data": {
      "text/latex": [
       "$\\displaystyle \\frac{\\left(\\sin^{4}{\\left(\\theta \\right)} + 1\\right) \\left(- 8 \\pi G M r + G Q^{2} + 4 \\pi r^{2}\\right) \\left(- 8 \\pi G M r + G Q^{2} + 4 \\pi r^{2} + 4 \\pi r \\left(G M - r\\right)\\right)^{2}}{32 \\pi^{3} r^{6}}$"
      ],
      "text/plain": [
       "(sin(theta)**4 + 1)*(-8*pi*G*M*r + G*Q**2 + 4*pi*r**2)*(-8*pi*G*M*r + G*Q**2 + 4*pi*r**2 + 4*pi*r*(G*M - r))**2/(32*pi**3*r**6)"
      ]
     },
     "metadata": {},
     "output_type": "display_data"
    },
    {
     "data": {
      "text/latex": [
       "$\\displaystyle \\frac{G^{2} \\left(64 \\pi^{2} M^{2} r^{2} - 48 \\pi M Q^{2} r + 9 Q^{4}\\right)}{2 \\pi r^{6} \\left(- 8 \\pi G M r + G Q^{2} + 4 \\pi r^{2}\\right)}$"
      ],
      "text/plain": [
       "G**2*(64*pi**2*M**2*r**2 - 48*pi*M*Q**2*r + 9*Q**4)/(2*pi*r**6*(-8*pi*G*M*r + G*Q**2 + 4*pi*r**2))"
      ]
     },
     "metadata": {},
     "output_type": "display_data"
    },
    {
     "data": {
      "text/latex": [
       "$\\displaystyle \\frac{\\left(8 \\pi G M r - G Q^{2} - 4 \\pi r^{2}\\right) \\left(- 24 \\pi G M r + 3 G Q^{2} + 16 \\pi r^{2} + 16 \\pi r \\left(G M - r\\right)\\right)^{2}}{32 \\pi^{3} r^{10}}$"
      ],
      "text/plain": [
       "(8*pi*G*M*r - G*Q**2 - 4*pi*r**2)*(-24*pi*G*M*r + 3*G*Q**2 + 16*pi*r**2 + 16*pi*r*(G*M - r))**2/(32*pi**3*r**10)"
      ]
     },
     "metadata": {},
     "output_type": "display_data"
    }
   ],
   "source": [
    "for term in (kretScal * denominator).as_ordered_terms():\n",
    "    display(sympy.simplify(term / denominator))"
   ]
  },
  {
   "cell_type": "code",
   "execution_count": 137,
   "metadata": {},
   "outputs": [
    {
     "data": {
      "text/latex": [
       "$\\displaystyle - \\frac{\\left(\\sin^{4}{\\left(\\theta \\right)} + 1\\right) \\left(- 8 \\pi G M r + G Q^{2} + 4 \\pi r^{2} + 4 \\pi r \\left(G M - r\\right)\\right)^{2}}{2 \\pi r^{2} \\left(- 8 \\pi G M r + G Q^{2} + 4 \\pi r^{2}\\right)}$"
      ],
      "text/plain": [
       "-(sin(theta)**4 + 1)*(-8*pi*G*M*r + G*Q**2 + 4*pi*r**2 + 4*pi*r*(G*M - r))**2/(2*pi*r**2*(-8*pi*G*M*r + G*Q**2 + 4*pi*r**2))"
      ]
     },
     "metadata": {},
     "output_type": "display_data"
    },
    {
     "data": {
      "text/latex": [
       "$\\displaystyle \\frac{2 \\left(\\cos^{2}{\\left(\\theta \\right)} - 2\\right) \\left(- 8 \\pi G M r + G Q^{2} + 4 \\pi r^{2} + 4 \\pi r \\left(G M - r\\right)\\right)^{2}}{r^{2} \\left(- 8 \\pi G M r + G Q^{2} + 4 \\pi r^{2}\\right)^{2}}$"
      ],
      "text/plain": [
       "2*(cos(theta)**2 - 2)*(-8*pi*G*M*r + G*Q**2 + 4*pi*r**2 + 4*pi*r*(G*M - r))**2/(r**2*(-8*pi*G*M*r + G*Q**2 + 4*pi*r**2)**2)"
      ]
     },
     "metadata": {},
     "output_type": "display_data"
    },
    {
     "data": {
      "text/latex": [
       "$\\displaystyle \\frac{G^{2} \\left(64 \\pi^{2} M^{2} r^{2} - 48 \\pi M Q^{2} r + 9 Q^{4}\\right)}{2 \\pi r^{6} \\left(- 8 \\pi G M r + G Q^{2} + 4 \\pi r^{2}\\right)}$"
      ],
      "text/plain": [
       "G**2*(64*pi**2*M**2*r**2 - 48*pi*M*Q**2*r + 9*Q**4)/(2*pi*r**6*(-8*pi*G*M*r + G*Q**2 + 4*pi*r**2))"
      ]
     },
     "metadata": {},
     "output_type": "display_data"
    }
   ],
   "source": [
    "for i, term in enumerate((kretScal * denominator).as_ordered_terms()):\n",
    "    if i in [2,3,5]:\n",
    "        display(sympy.trigsimp(\n",
    "            sympy.simplify(\n",
    "            (term / denominator)\n",
    "            )\n",
    "        ))"
   ]
  },
  {
   "cell_type": "code",
   "execution_count": 140,
   "metadata": {},
   "outputs": [
    {
     "data": {
      "text/latex": [
       "$\\displaystyle 16 \\pi^{2} G^{2} r^{8} \\left(8 \\pi M r - Q^{2}\\right)^{2} \\left(\\cos^{2}{\\left(\\theta \\right)} - 2\\right) \\left(- 8 \\pi G M r + G Q^{2} + 4 \\pi r^{2}\\right)^{2} \\sin^{2}{\\left(\\theta \\right)} + G^{2} \\left(4 \\pi M r - Q^{2}\\right)^{2} \\left(\\cos^{2}{\\left(\\theta \\right)} - 2\\right) \\left(- 8 \\pi G M r + G Q^{2} + 4 \\pi r^{2}\\right)^{4} - 64 \\pi^{3} r^{8} \\left(\\sin^{4}{\\left(\\theta \\right)} + 1\\right) \\left(- 8 \\pi G M r + G Q^{2} + 4 \\pi r^{2}\\right) \\left(- 8 \\pi G M r + G Q^{2} + 4 \\pi r^{2} + 4 \\pi r \\left(G M - r\\right)\\right)^{2} + 256 \\pi^{4} r^{8} \\left(\\cos^{2}{\\left(\\theta \\right)} - 2\\right) \\left(- 8 \\pi G M r + G Q^{2} + 4 \\pi r^{2} + 4 \\pi r \\left(G M - r\\right)\\right)^{2} + 4 \\pi r^{4} \\left(\\sin^{4}{\\left(\\theta \\right)} + 1\\right) \\left(- 8 \\pi G M r + G Q^{2} + 4 \\pi r^{2}\\right)^{3} \\left(- 8 \\pi G M r + G Q^{2} + 4 \\pi r^{2} + 4 \\pi r \\left(G M - r\\right)\\right)^{2} + 64 \\pi^{3} r^{4} \\left(- 8 \\pi G M r + G Q^{2} + 4 \\pi r^{2}\\right) \\left(- 24 \\pi G M r + 3 G Q^{2} + 16 \\pi r^{2} + 16 \\pi r \\left(G M - r\\right)\\right)^{2} - 4 \\pi \\left(- 8 \\pi G M r + G Q^{2} + 4 \\pi r^{2}\\right)^{3} \\left(- 24 \\pi G M r + 3 G Q^{2} + 16 \\pi r^{2} + 16 \\pi r \\left(G M - r\\right)\\right)^{2}$"
      ],
      "text/plain": [
       "16*pi**2*G**2*r**8*(8*pi*M*r - Q**2)**2*(cos(theta)**2 - 2)*(-8*pi*G*M*r + G*Q**2 + 4*pi*r**2)**2*sin(theta)**2 + G**2*(4*pi*M*r - Q**2)**2*(cos(theta)**2 - 2)*(-8*pi*G*M*r + G*Q**2 + 4*pi*r**2)**4 - 64*pi**3*r**8*(sin(theta)**4 + 1)*(-8*pi*G*M*r + G*Q**2 + 4*pi*r**2)*(-8*pi*G*M*r + G*Q**2 + 4*pi*r**2 + 4*pi*r*(G*M - r))**2 + 256*pi**4*r**8*(cos(theta)**2 - 2)*(-8*pi*G*M*r + G*Q**2 + 4*pi*r**2 + 4*pi*r*(G*M - r))**2 + 4*pi*r**4*(sin(theta)**4 + 1)*(-8*pi*G*M*r + G*Q**2 + 4*pi*r**2)**3*(-8*pi*G*M*r + G*Q**2 + 4*pi*r**2 + 4*pi*r*(G*M - r))**2 + 64*pi**3*r**4*(-8*pi*G*M*r + G*Q**2 + 4*pi*r**2)*(-24*pi*G*M*r + 3*G*Q**2 + 16*pi*r**2 + 16*pi*r*(G*M - r))**2 - 4*pi*(-8*pi*G*M*r + G*Q**2 + 4*pi*r**2)**3*(-24*pi*G*M*r + 3*G*Q**2 + 16*pi*r**2 + 16*pi*r*(G*M - r))**2"
      ]
     },
     "execution_count": 140,
     "metadata": {},
     "output_type": "execute_result"
    }
   ],
   "source": [
    "sympy.expand_trig(kretScal * denominator)"
   ]
  }
 ],
 "metadata": {
  "kernelspec": {
   "display_name": "Python 3",
   "language": "python",
   "name": "python3"
  },
  "language_info": {
   "codemirror_mode": {
    "name": "ipython",
    "version": 3
   },
   "file_extension": ".py",
   "mimetype": "text/x-python",
   "name": "python",
   "nbconvert_exporter": "python",
   "pygments_lexer": "ipython3",
   "version": "3.8.6"
  }
 },
 "nbformat": 4,
 "nbformat_minor": 4
}
